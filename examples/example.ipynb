{
 "cells": [
  {
   "cell_type": "code",
   "execution_count": null,
   "id": "ce0e21b6",
   "metadata": {},
   "outputs": [],
   "source": [
    "# TODO: Add example of backup service here\n",
    "# https://peps.python.org/pep-0020/\n",
    "import this"
   ]
  }
 ],
 "metadata": {
  "language_info": {
   "name": "python"
  }
 },
 "nbformat": 4,
 "nbformat_minor": 5
}
